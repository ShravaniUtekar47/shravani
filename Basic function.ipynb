{
 "cells": [
  {
   "cell_type": "code",
   "execution_count": 2,
   "id": "8d14e97f-6981-41b3-8852-7e050d094dfa",
   "metadata": {},
   "outputs": [
    {
     "name": "stdout",
     "output_type": "stream",
     "text": [
      "Hello World\n"
     ]
    }
   ],
   "source": [
    "def greetings():\n",
    "    \"This is docstring of greetings function\"\n",
    "    print(\"Hello World\")\n",
    "    return;\n",
    "greetings()\n"
   ]
  },
  {
   "cell_type": "code",
   "execution_count": 3,
   "id": "58729b66-9c1c-4750-99c3-b63b860ff58e",
   "metadata": {},
   "outputs": [
    {
     "name": "stdout",
     "output_type": "stream",
     "text": [
      "I'm first call to user defined function!\n",
      "Again second call to the same function\n"
     ]
    }
   ],
   "source": [
    "# Function definition is here\n",
    "def printme( str ):\n",
    "    \"This prints a passed string into this function\"\n",
    "    print (str)\n",
    "    return;\n",
    "# Now you can call the function\n",
    "printme(\"I'm first call to user defined function!\")\n",
    "printme(\"Again second call to the same function\")"
   ]
  },
  {
   "cell_type": "code",
   "execution_count": 6,
   "id": "de434dcb-4a90-4426-b286-e89035e565e4",
   "metadata": {},
   "outputs": [
    {
     "name": "stdout",
     "output_type": "stream",
     "text": [
      "Hello Sham\n",
      "Hello Pratima\n",
      "Hello Ram\n"
     ]
    }
   ],
   "source": [
    "def greetings(name):\n",
    "    \"This is docstring of greetings function\"\n",
    "    print (\"Hello {}\".format(name))\n",
    "    return\n",
    "greetings(\"Sham\")\n",
    "greetings(\"Pratima\")\n",
    "greetings(\"Ram\")"
   ]
  },
  {
   "cell_type": "code",
   "execution_count": 10,
   "id": "82e49eed-4dec-4c32-861b-645ae973bd35",
   "metadata": {},
   "outputs": [
    {
     "name": "stdout",
     "output_type": "stream",
     "text": [
      "ID before passing: 2168670458944\n",
      "ID inside the function: 2168670458944\n"
     ]
    }
   ],
   "source": [
    "def testfunction(arg):\n",
    "    print (\"ID inside the function:\", id(arg))\n",
    "var = \"Hello\"\n",
    "print (\"ID before passing:\", id(var))\n",
    "testfunction(var)"
   ]
  },
  {
   "cell_type": "code",
   "execution_count": 11,
   "id": "d4dab16c-7958-4415-b5bf-45ed6ed88ab9",
   "metadata": {},
   "outputs": [
    {
     "name": "stdout",
     "output_type": "stream",
     "text": [
      "ID before passing: 140723383511768\n",
      "ID inside the function: 140723383511768\n",
      "new object after increment 11 140723383511800\n",
      "value after function call 10\n"
     ]
    }
   ],
   "source": [
    "def testfunction(arg):\n",
    "    print (\"ID inside the function:\", id(arg))\n",
    "    arg = arg + 1\n",
    "    print (\"new object after increment\", arg, id(arg))\n",
    "var=10\n",
    "print (\"ID before passing:\", id(var))\n",
    "testfunction(var)\n",
    "print (\"value after function call\", var)"
   ]
  },
  {
   "cell_type": "code",
   "execution_count": 12,
   "id": "a79a86ff-2c49-426e-8c83-e5937288cfb6",
   "metadata": {},
   "outputs": [
    {
     "name": "stdout",
     "output_type": "stream",
     "text": [
      "ID before passing: 2168684872896\n",
      "Inside function: [10, 20, 30, 40]\n",
      "ID inside the function: 2168684872896\n",
      "list after function call [10, 20, 30, 40, 100]\n"
     ]
    }
   ],
   "source": [
    "def testfunction(arg):\n",
    "    print (\"Inside function:\",arg)\n",
    "    print (\"ID inside the function:\", id(arg))\n",
    "    arg=arg.append(100)\n",
    "var=[10, 20, 30, 40]\n",
    "print (\"ID before passing:\", id(var))\n",
    "testfunction(var)\n",
    "print (\"list after function call\", var)"
   ]
  },
  {
   "cell_type": "code",
   "execution_count": 13,
   "id": "8aa0ae98-8d5c-4c01-a1a1-f36be88cc1ef",
   "metadata": {},
   "outputs": [
    {
     "name": "stdout",
     "output_type": "stream",
     "text": [
      "Name:  miki\n",
      "Age  50\n"
     ]
    }
   ],
   "source": [
    "def printinfo( name, age ):\n",
    "    \"This prints a passed info into this function\"\n",
    "    print (\"Name: \", name)\n",
    "    print (\"Age \", age)\n",
    "    return;\n",
    "# Now you can call printinfo function\n",
    "printinfo( age=50, name=\"miki\" )"
   ]
  },
  {
   "cell_type": "code",
   "execution_count": 14,
   "id": "47dbf23a-144f-4fda-96ec-a0e30bfcdbac",
   "metadata": {},
   "outputs": [
    {
     "name": "stdout",
     "output_type": "stream",
     "text": [
      "Name:  mdl\n",
      "Age  50\n",
      "Name:  mdl\n",
      "Age  35\n"
     ]
    }
   ],
   "source": [
    "def printinfo( name, age = 35 ):\n",
    "    \"This prints a passed info into this function\"\n",
    "    print (\"Name: \", name)\n",
    "    print (\"Age \", age)\n",
    "    return;\n",
    "# Now you can call printinfo function\n",
    "printinfo( age=50, name=\"mdl\" )\n",
    "printinfo( name=\"mdl\" )"
   ]
  },
  {
   "cell_type": "code",
   "execution_count": 17,
   "id": "42d7fc45-659d-45ab-a73c-029ae0fff63a",
   "metadata": {},
   "outputs": [
    {
     "name": "stdout",
     "output_type": "stream",
     "text": [
      "66\n",
      "Evaluating positional-only arguments: \n"
     ]
    }
   ],
   "source": [
    "def posFun(x, y, /, z):\n",
    "    print(x + y + z)\n",
    "    print(\"Evaluating positional-only arguments: \")\n",
    "posFun(33, 22, z=11)\n"
   ]
  },
  {
   "cell_type": "code",
   "execution_count": 18,
   "id": "b55416e3-cac5-4653-84e2-3bd75549f583",
   "metadata": {},
   "outputs": [
    {
     "name": "stdout",
     "output_type": "stream",
     "text": [
      "240\n",
      "Evaluating keyword-only arguments: \n"
     ]
    }
   ],
   "source": [
    "def posFun(*, num1, num2, num3):\n",
    "    print(num1 * num2 * num3)\n",
    "    print(\"Evaluating keyword-only arguments: \")\n",
    "posFun(num3=6, num2=8, num1=5)"
   ]
  },
  {
   "cell_type": "code",
   "execution_count": 20,
   "id": "54cf0679-cd47-4413-a51d-514d6dc33acd",
   "metadata": {},
   "outputs": [
    {
     "name": "stdout",
     "output_type": "stream",
     "text": [
      "Output is: \n",
      "10\n",
      "Output is: \n",
      "70\n",
      "60\n"
     ]
    }
   ],
   "source": [
    "def printinfo( arg1, *vartuple ):\n",
    "    \"This prints a variable passed arguments\"\n",
    "    print (\"Output is: \")\n",
    "    print (arg1)\n",
    "    for var in vartuple:\n",
    "        print (var)\n",
    "        return;\n",
    "# Now you can call printinfo function\n",
    "printinfo( 10 )\n",
    "printinfo( 70, 60, 50 )"
   ]
  },
  {
   "cell_type": "code",
   "execution_count": 21,
   "id": "6fe81dd0-53be-4c37-a4be-81a6b3211877",
   "metadata": {},
   "outputs": [
    {
     "name": "stdout",
     "output_type": "stream",
     "text": [
      "a = 10 b = 20 a+b = 30\n"
     ]
    }
   ],
   "source": [
    "def add(x,y):\n",
    "    z=x+y\n",
    "    return z\n",
    "a=10\n",
    "b=20\n",
    "result = add(a,b)\n",
    "print (\"a = {} b = {} a+b = {}\".format(a, b, result))"
   ]
  },
  {
   "cell_type": "code",
   "execution_count": 22,
   "id": "b643f878-dae1-487d-a7d1-11943eaea098",
   "metadata": {},
   "outputs": [
    {
     "name": "stdout",
     "output_type": "stream",
     "text": [
      "Value of total :  30\n",
      "Value of total :  40\n"
     ]
    }
   ],
   "source": [
    "sum = lambda arg1, arg2: arg1 + arg2;\n",
    "# Now you can call sum as a function\n",
    "print (\"Value of total : \", sum( 10, 20 ))\n",
    "print (\"Value of total : \", sum( 20, 20 ))"
   ]
  },
  {
   "cell_type": "code",
   "execution_count": 26,
   "id": "0102d923-8ca2-48a8-95b9-4df0c4afa63c",
   "metadata": {},
   "outputs": [
    {
     "name": "stdout",
     "output_type": "stream",
     "text": [
      "Inside the function local total :  30\n",
      "Outside the function global total :  0\n"
     ]
    }
   ],
   "source": [
    "total=0\n",
    "def sum( arg1, arg2 ):\n",
    "    total=arg1+arg2\n",
    "    print (\"Inside the function local total : \", total)\n",
    "    return total;\n",
    "# Now you can call sum function\n",
    "sum( 10, 20 );\n",
    "print (\"Outside the function global total : \", total)"
   ]
  },
  {
   "cell_type": "code",
   "execution_count": null,
   "id": "a5d21587-f85f-4d46-b564-22628e1ec370",
   "metadata": {},
   "outputs": [],
   "source": []
  }
 ],
 "metadata": {
  "kernelspec": {
   "display_name": "Python 3 (ipykernel)",
   "language": "python",
   "name": "python3"
  },
  "language_info": {
   "codemirror_mode": {
    "name": "ipython",
    "version": 3
   },
   "file_extension": ".py",
   "mimetype": "text/x-python",
   "name": "python",
   "nbconvert_exporter": "python",
   "pygments_lexer": "ipython3",
   "version": "3.12.7"
  }
 },
 "nbformat": 4,
 "nbformat_minor": 5
}

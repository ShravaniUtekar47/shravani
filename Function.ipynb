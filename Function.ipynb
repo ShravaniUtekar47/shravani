{
 "cells": [
  {
   "cell_type": "code",
   "execution_count": 2,
   "id": "2c804b10-da6d-4966-8b92-2d813ba6cf99",
   "metadata": {},
   "outputs": [],
   "source": [
    "def my_function():\n",
    "    print(\"Hello from a function\")"
   ]
  },
  {
   "cell_type": "code",
   "execution_count": 3,
   "id": "d5c5c0b0-3ea3-494f-8e3c-4db516813766",
   "metadata": {},
   "outputs": [
    {
     "name": "stdout",
     "output_type": "stream",
     "text": [
      "Hello from a function\n"
     ]
    }
   ],
   "source": [
    "def my_function():\n",
    "    print(\"Hello from a function\")\n",
    "my_function()"
   ]
  },
  {
   "cell_type": "code",
   "execution_count": 4,
   "id": "528df1be-c2bb-425d-b290-fc7db52c6ef5",
   "metadata": {},
   "outputs": [
    {
     "name": "stdout",
     "output_type": "stream",
     "text": [
      "Engineer Manjushree\n",
      "Engineer Harsha\n",
      "Engineer Iram\n"
     ]
    }
   ],
   "source": [
    "def my_function(fname):\n",
    "    print( \"Engineer \" + fname)\n",
    "my_function(\"Manjushree\")\n",
    "my_function(\"Harsha\")\n",
    "my_function(\"Iram\")"
   ]
  },
  {
   "cell_type": "code",
   "execution_count": 5,
   "id": "a4728bf5-d466-431f-aa36-72dfb1affa55",
   "metadata": {
    "collapsed": true,
    "jupyter": {
     "outputs_hidden": true
    }
   },
   "outputs": [
    {
     "name": "stdout",
     "output_type": "stream",
     "text": [
      "Manjushree Laddha\n"
     ]
    }
   ],
   "source": [
    "def my_function(fname, lname):\n",
    "    print(fname + \" \" + lname)\n",
    "my_function(\"Manjushree\", \"Laddha\")"
   ]
  },
  {
   "cell_type": "code",
   "execution_count": 7,
   "id": "714b08b8-0ede-45f9-8849-b5fb7c1008ab",
   "metadata": {},
   "outputs": [
    {
     "name": "stdout",
     "output_type": "stream",
     "text": [
      "The youngest child is Anthony\n"
     ]
    }
   ],
   "source": [
    "def my_function(*kids):\n",
    "    print(\"The youngest child is \" + kids[2])\n",
    "my_function(\"Amar\", \"Akbar\", \"Anthony\")"
   ]
  },
  {
   "cell_type": "code",
   "execution_count": 8,
   "id": "039c336b-02dc-4d39-bc9a-9d431e86e9c2",
   "metadata": {},
   "outputs": [
    {
     "name": "stdout",
     "output_type": "stream",
     "text": [
      "The youngest child is Hari\n"
     ]
    }
   ],
   "source": [
    "def my_function(child3, child2, child1):\n",
    "    print(\"The youngest child is \" + child3)\n",
    "my_function(child1 = \"Ram\", child2 = \"Krishna\", child3 = \"Hari\")"
   ]
  },
  {
   "cell_type": "code",
   "execution_count": 9,
   "id": "e4548e1f-491a-4dd5-912f-e99d22badd6a",
   "metadata": {},
   "outputs": [
    {
     "name": "stdout",
     "output_type": "stream",
     "text": [
      "His first name is Ram\n",
      "His last name is Shinde\n"
     ]
    }
   ],
   "source": [
    "def my_function(**kid):\n",
    "    print(\"His first name is \" + kid[\"fname\"])\n",
    "    print(\"His last name is \" + kid[\"lname\"])\n",
    "my_function(fname = \"Ram\", lname = \"Shinde\")"
   ]
  },
  {
   "cell_type": "code",
   "execution_count": 10,
   "id": "00284535-12d0-4380-8cf8-73e7d20f026f",
   "metadata": {
    "jupyter": {
     "source_hidden": true
    }
   },
   "outputs": [
    {
     "name": "stdout",
     "output_type": "stream",
     "text": [
      "I am from Sweden\n",
      "I am from India\n",
      "I am from Norway\n",
      "I am from Brazil\n"
     ]
    }
   ],
   "source": [
    "def my_function(country = \"Norway\"):\n",
    "    print(\"I am from \" + country)\n",
    "my_function(\"Sweden\")\n",
    "my_function(\"India\")\n",
    "my_function()\n",
    "my_function(\"Brazil\")"
   ]
  },
  {
   "cell_type": "code",
   "execution_count": 11,
   "id": "29d3de50-1110-4801-a6b8-f6246301cf15",
   "metadata": {},
   "outputs": [
    {
     "name": "stdout",
     "output_type": "stream",
     "text": [
      "apple\n",
      "banana\n",
      "cherry\n"
     ]
    }
   ],
   "source": [
    "def my_function(food):\n",
    "    for x in food:\n",
    "        print(x)\n",
    "fruits = [\"apple\", \"banana\", \"cherry\"]\n",
    "my_function(fruits)"
   ]
  },
  {
   "cell_type": "code",
   "execution_count": 12,
   "id": "8088550d-da0e-455c-a2b2-682003ff619b",
   "metadata": {},
   "outputs": [
    {
     "name": "stdout",
     "output_type": "stream",
     "text": [
      "15\n",
      "25\n",
      "45\n"
     ]
    }
   ],
   "source": [
    "def my_function(x):\n",
    "    return 5 * x\n",
    "print(my_function(3))\n",
    "print(my_function(5))\n",
    "print(my_function(9))"
   ]
  },
  {
   "cell_type": "code",
   "execution_count": 13,
   "id": "12ee2919-6f4e-4fa7-8f3a-57454b731cf7",
   "metadata": {
    "scrolled": true
   },
   "outputs": [
    {
     "name": "stdout",
     "output_type": "stream",
     "text": [
      "3\n"
     ]
    }
   ],
   "source": [
    "def my_function(x, /):\n",
    "    print(x)\n",
    "my_function(3)"
   ]
  },
  {
   "cell_type": "code",
   "execution_count": 14,
   "id": "4737ff8a-087d-4356-8c57-cecd0a1d8ab9",
   "metadata": {},
   "outputs": [
    {
     "name": "stdout",
     "output_type": "stream",
     "text": [
      "3\n"
     ]
    }
   ],
   "source": [
    "def my_function(x):\n",
    "    print(x)\n",
    "my_function(x = 3)"
   ]
  },
  {
   "cell_type": "code",
   "execution_count": 15,
   "id": "4ad97661-89d6-4409-ad7d-e0d047e187cd",
   "metadata": {},
   "outputs": [
    {
     "name": "stdout",
     "output_type": "stream",
     "text": [
      "3\n"
     ]
    }
   ],
   "source": [
    "def my_function(*, x):\n",
    "    print(x)\n",
    "my_function(x = 3)"
   ]
  },
  {
   "cell_type": "code",
   "execution_count": 16,
   "id": "32541cf5-827a-4aea-a338-456a5cec6d3d",
   "metadata": {},
   "outputs": [
    {
     "name": "stdout",
     "output_type": "stream",
     "text": [
      "3\n"
     ]
    }
   ],
   "source": [
    "def my_function(x):\n",
    "    print(x)\n",
    "my_function(3)\n"
   ]
  },
  {
   "cell_type": "code",
   "execution_count": 17,
   "id": "dadfd54d-3f26-4c28-8b30-d45e45d7b851",
   "metadata": {},
   "outputs": [
    {
     "name": "stdout",
     "output_type": "stream",
     "text": [
      "26\n"
     ]
    }
   ],
   "source": [
    "def my_function(a, b, /, *, c, d):\n",
    "    print(a + b + c + d)\n",
    "my_function(5, 6, c = 7, d = 8)"
   ]
  },
  {
   "cell_type": "code",
   "execution_count": 19,
   "id": "d81409b4-8749-48a4-932f-f9e21c9a2a21",
   "metadata": {},
   "outputs": [
    {
     "name": "stdout",
     "output_type": "stream",
     "text": [
      "Recursion Example Results:\n",
      "1\n",
      "3\n",
      "6\n",
      "10\n",
      "15\n",
      "21\n"
     ]
    },
    {
     "data": {
      "text/plain": [
       "21"
      ]
     },
     "execution_count": 19,
     "metadata": {},
     "output_type": "execute_result"
    }
   ],
   "source": [
    "def tri_recursion(k):\n",
    "    if(k > 0):\n",
    "        result = k + tri_recursion(k - 1)\n",
    "        print(result)\n",
    "    else:\n",
    "        result = 0\n",
    "    return result\n",
    "print(\"Recursion Example Results:\")\n",
    "tri_recursion(6)"
   ]
  },
  {
   "cell_type": "code",
   "execution_count": 1,
   "id": "ab85f91d-c5a8-4722-b6ce-f478da297260",
   "metadata": {},
   "outputs": [
    {
     "name": "stdout",
     "output_type": "stream",
     "text": [
      "15\n"
     ]
    }
   ],
   "source": [
    "x = lambda a : a + 10\n",
    "print(x(5))"
   ]
  },
  {
   "cell_type": "code",
   "execution_count": 11,
   "id": "e43d957c-7ef5-4134-a8cc-6d8095ac4544",
   "metadata": {},
   "outputs": [
    {
     "name": "stdout",
     "output_type": "stream",
     "text": [
      "30\n"
     ]
    }
   ],
   "source": [
    "x = lambda a, b : a * b\n",
    "print(x(5,6))"
   ]
  },
  {
   "cell_type": "code",
   "execution_count": 9,
   "id": "6b834a02-c2c7-472b-8cc7-ba0dcb5cedae",
   "metadata": {},
   "outputs": [
    {
     "name": "stdout",
     "output_type": "stream",
     "text": [
      "13\n"
     ]
    }
   ],
   "source": [
    "x = lambda a, b, c : a + b + c\n",
    "print(x(5, 6, 2))"
   ]
  },
  {
   "cell_type": "code",
   "execution_count": 13,
   "id": "299c488b-6f45-401e-b77b-f8e9c14f76b9",
   "metadata": {},
   "outputs": [
    {
     "name": "stdout",
     "output_type": "stream",
     "text": [
      "22\n"
     ]
    }
   ],
   "source": [
    "def myfunc(n):\n",
    "    return lambda a : a * n\n",
    "mydoubler = myfunc(2)\n",
    "print(mydoubler(11))"
   ]
  },
  {
   "cell_type": "code",
   "execution_count": 14,
   "id": "1784646d-a0a8-4cfb-a627-dfa97995ab0e",
   "metadata": {},
   "outputs": [
    {
     "name": "stdout",
     "output_type": "stream",
     "text": [
      "33\n"
     ]
    }
   ],
   "source": [
    "def myfunc(n):\n",
    "    return lambda a : a * n\n",
    "mytripler = myfunc(3)\n",
    "print(mytripler(11))"
   ]
  },
  {
   "cell_type": "code",
   "execution_count": 15,
   "id": "db26c7bc-abc3-4176-84ad-2d8682ec5ffa",
   "metadata": {},
   "outputs": [
    {
     "name": "stdout",
     "output_type": "stream",
     "text": [
      "22\n",
      "33\n"
     ]
    }
   ],
   "source": [
    "def myfunc(n):\n",
    "    return lambda a : a * n\n",
    "mydoubler = myfunc(2)\n",
    "mytripler = myfunc(3)\n",
    "print(mydoubler(11))\n",
    "print(mytripler(11))"
   ]
  },
  {
   "cell_type": "code",
   "execution_count": null,
   "id": "5bf9ed72-9817-42c0-8b13-23cdbe2e80f2",
   "metadata": {},
   "outputs": [],
   "source": []
  }
 ],
 "metadata": {
  "kernelspec": {
   "display_name": "Python 3 (ipykernel)",
   "language": "python",
   "name": "python3"
  },
  "language_info": {
   "codemirror_mode": {
    "name": "ipython",
    "version": 3
   },
   "file_extension": ".py",
   "mimetype": "text/x-python",
   "name": "python",
   "nbconvert_exporter": "python",
   "pygments_lexer": "ipython3",
   "version": "3.12.7"
  }
 },
 "nbformat": 4,
 "nbformat_minor": 5
}

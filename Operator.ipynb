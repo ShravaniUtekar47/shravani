{
 "cells": [
  {
   "cell_type": "code",
   "execution_count": 1,
   "id": "8d178946-67f4-4ed7-9c29-02c52e82997b",
   "metadata": {},
   "outputs": [
    {
     "name": "stdout",
     "output_type": "stream",
     "text": [
      "8\n"
     ]
    }
   ],
   "source": [
    "x = 17\n",
    "y = 2\n",
    "print(x // y)"
   ]
  },
  {
   "cell_type": "markdown",
   "id": "d0485ff4-b895-44fe-9bfd-592bd638bcdf",
   "metadata": {},
   "source": [
    "#Operator   Example       Same As\n",
    "=           x = 5         x = 5\n",
    "+=          x += 3        x = x + 3\n",
    "-=          x -= 3        x = x - 3\n",
    "*=          x *= 3        x = x * 3\n",
    "/=          x /= 3        x = x / 3\n",
    "%=          x %= 3        x = x % 3\n",
    "//=         x //= 3       x = x // 3\n",
    "**=         x **= 3       x = x ** 3\n",
    "&=          x &= 3        x = x & 3\n",
    "|=          x |= 3        x = x | 3\n",
    "^=          x ^= 3        x = x ^ 3\n",
    ">>=         x >>= 3       x = x >> 3\n",
    "<<=         x <<= 3       x = x << 3\n",
    ":=        print(x := 3)   x = 3\n",
    "                          print(x)"
   ]
  },
  {
   "cell_type": "markdown",
   "id": "418cf0af-e1ef-48d5-9221-f1079b1286e7",
   "metadata": {},
   "source": [
    "Operator    Name                        Example\n",
    "==          Equal                       x == y\n",
    "!=          Not equal                   x!= y\n",
    ">           Greater than                x > y\n",
    "<           Less than                   x < y\n",
    ">=          Greater than or equal to    x >= y\n",
    "<=          Less than or equal to       x <= y"
   ]
  },
  {
   "cell_type": "code",
   "execution_count": 9,
   "id": "6921bc6d-017b-4d96-b0e3-3ccc10ccdff1",
   "metadata": {},
   "outputs": [
    {
     "name": "stdout",
     "output_type": "stream",
     "text": [
      "True\n",
      "False\n",
      "True\n"
     ]
    }
   ],
   "source": [
    "x = [\"apple\", \"banana\"]\n",
    "y = [\"apple\", \"banana\"]\n",
    "z = x\n",
    "print(x is z)\n",
    "# returns True because z is the same object as x\n",
    "print(x is y)\n",
    "# returns False because x is not the same object as y, even if they have the same content\n",
    "print(x == y)\n",
    "# to demonstrate the difference betweeen \"is\" and \"==\": this comparison returns True because x is equal to y"
   ]
  },
  {
   "cell_type": "code",
   "execution_count": 10,
   "id": "fe168b31-5742-4181-807c-5ea032587886",
   "metadata": {},
   "outputs": [
    {
     "name": "stdout",
     "output_type": "stream",
     "text": [
      "False\n",
      "True\n",
      "False\n"
     ]
    }
   ],
   "source": [
    "x = [\"apple\", \"banana\"]\n",
    "y = [\"apple\", \"banana\"]\n",
    "z = x\n",
    "print(x is not z)\n",
    "# returns False because z is the same object as x\n",
    "print(x is not y)\n",
    "# returns True because x is not the same object as y, even if they have the same content\n",
    "print(x != y)\n",
    "# to demonstrate the difference betweeen \"is not\" and \"!=\": this comparison returns False because x is equal to y"
   ]
  },
  {
   "cell_type": "code",
   "execution_count": 11,
   "id": "f9bacef5-f1e7-4c41-b51a-d7e81e2a2963",
   "metadata": {},
   "outputs": [
    {
     "name": "stdout",
     "output_type": "stream",
     "text": [
      "True\n"
     ]
    }
   ],
   "source": [
    "x = [\"apple\", \"banana\"]\n",
    "print(\"banana\" in x)\n",
    "# returns True because a sequence with the value \"banana\" is in the list"
   ]
  },
  {
   "cell_type": "code",
   "execution_count": 12,
   "id": "3300a5f5-9031-4c87-b9f5-ebdf6ab0f426",
   "metadata": {},
   "outputs": [
    {
     "name": "stdout",
     "output_type": "stream",
     "text": [
      "True\n"
     ]
    }
   ],
   "source": [
    "x = [\"apple\", \"banana\"]\n",
    "print(\"banana\" in x)\n",
    "# returns True because a sequence with the value \"banana\" is in the list"
   ]
  },
  {
   "cell_type": "code",
   "execution_count": 13,
   "id": "08f195d3-85e1-4eaa-a70b-40f82778122d",
   "metadata": {},
   "outputs": [
    {
     "name": "stdout",
     "output_type": "stream",
     "text": [
      "5\n"
     ]
    },
    {
     "data": {
      "text/plain": [
       "'\\nThe ^ operator compares each bit and set it to 1 if only one is 1, otherwise (if both are 1 or both are 0) it is set to 0:\\n6 = 0000000000000110\\n3 = 0000000000000011\\n--------------------\\n5 = 0000000000000101\\n====================\\nDecimal numbers and their binary values:\\n0 = 0000000000000000\\n1 = 0000000000000001\\n2 = 0000000000000010\\n3 = 0000000000000011\\n4 = 0000000000000100\\n5 = 0000000000000101\\n6 = 0000000000000110\\n7 = 0000000000000111\\n'"
      ]
     },
     "execution_count": 13,
     "metadata": {},
     "output_type": "execute_result"
    }
   ],
   "source": [
    "print(6 ^ 3)\n",
    "\"\"\"\n",
    "The ^ operator compares each bit and set it to 1 if only one is 1, otherwise (if both are 1 or both are 0) it is set to 0:\n",
    "6 = 0000000000000110\n",
    "3 = 0000000000000011\n",
    "--------------------\n",
    "5 = 0000000000000101\n",
    "====================\n",
    "Decimal numbers and their binary values:\n",
    "0 = 0000000000000000\n",
    "1 = 0000000000000001\n",
    "2 = 0000000000000010\n",
    "3 = 0000000000000011\n",
    "4 = 0000000000000100\n",
    "5 = 0000000000000101\n",
    "6 = 0000000000000110\n",
    "7 = 0000000000000111\n",
    "\"\"\""
   ]
  },
  {
   "cell_type": "code",
   "execution_count": 15,
   "id": "764c9fea-5696-456e-9eae-4ec7501c86f3",
   "metadata": {},
   "outputs": [
    {
     "name": "stdout",
     "output_type": "stream",
     "text": [
      "2\n"
     ]
    },
    {
     "data": {
      "text/plain": [
       "\"\\nThe >> operator moves each bit the specified number of times to the right. Empty holes at the left are filled with 0's.\\nIf you move each bit 2 times to the right, 8 becomes 2:\\n8 = 0000000000001000\\nbecomes\\n2 = 0000000000000010\\nDecimal numbers and their binary values:\\n0 = 0000000000000000\\n1 = 0000000000000001\\n2 = 0000000000000010\\n3 = 0000000000000011\\n4 = 0000000000000100\\n5 = 0000000000000101\\n6 = 0000000000000110\\n7 = 0000000000000111\\n8 = 0000000000001000\\n9 = 0000000000001001\\n10 = 0000000000001010\\n11 = 0000000000001011\\n12 = 0000000000001100\\n\""
      ]
     },
     "execution_count": 15,
     "metadata": {},
     "output_type": "execute_result"
    }
   ],
   "source": [
    "print(8 >> 2)\n",
    "\"\"\"\n",
    "The >> operator moves each bit the specified number of times to the right. Empty holes at the left are filled with 0's.\n",
    "If you move each bit 2 times to the right, 8 becomes 2:\n",
    "8 = 0000000000001000\n",
    "becomes\n",
    "2 = 0000000000000010\n",
    "Decimal numbers and their binary values:\n",
    "0 = 0000000000000000\n",
    "1 = 0000000000000001\n",
    "2 = 0000000000000010\n",
    "3 = 0000000000000011\n",
    "4 = 0000000000000100\n",
    "5 = 0000000000000101\n",
    "6 = 0000000000000110\n",
    "7 = 0000000000000111\n",
    "8 = 0000000000001000\n",
    "9 = 0000000000001001\n",
    "10 = 0000000000001010\n",
    "11 = 0000000000001011\n",
    "12 = 0000000000001100\n",
    "\"\"\""
   ]
  },
  {
   "cell_type": "code",
   "execution_count": 16,
   "id": "d48aad12-60a4-4cc6-bb14-fbaa531f0d66",
   "metadata": {},
   "outputs": [
    {
     "name": "stdout",
     "output_type": "stream",
     "text": [
      "5\n"
     ]
    }
   ],
   "source": [
    "print(5 + 4 - 7 + 3)"
   ]
  },
  {
   "cell_type": "code",
   "execution_count": null,
   "id": "dc31bbd8-6aef-420a-802c-7fcdd61b419f",
   "metadata": {},
   "outputs": [],
   "source": []
  }
 ],
 "metadata": {
  "kernelspec": {
   "display_name": "Python 3 (ipykernel)",
   "language": "python",
   "name": "python3"
  },
  "language_info": {
   "codemirror_mode": {
    "name": "ipython",
    "version": 3
   },
   "file_extension": ".py",
   "mimetype": "text/x-python",
   "name": "python",
   "nbconvert_exporter": "python",
   "pygments_lexer": "ipython3",
   "version": "3.12.7"
  }
 },
 "nbformat": 4,
 "nbformat_minor": 5
}

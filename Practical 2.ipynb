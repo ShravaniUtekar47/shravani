{
 "cells": [
  {
   "cell_type": "code",
   "execution_count": 1,
   "id": "9a96b469-34ae-4eda-9ed9-bac8f1e50d4f",
   "metadata": {},
   "outputs": [
    {
     "name": "stdout",
     "output_type": "stream",
     "text": [
      "Name: Ravi, Age: 18, Grade: A\n"
     ]
    }
   ],
   "source": [
    "def display_student_info(student):\n",
    "    print(f\"Name: {student[0]}, Age: {student[1]}, Grade: {student[2]}\")\n",
    "\n",
    "student = (\"Ravi\", 18, \"A\")\n",
    "display_student_info(student)\n"
   ]
  },
  {
   "cell_type": "code",
   "execution_count": 2,
   "id": "0bba8754-814a-451f-946b-a19983ac8b1a",
   "metadata": {},
   "outputs": [
    {
     "name": "stdout",
     "output_type": "stream",
     "text": [
      "Total = 200\n"
     ]
    }
   ],
   "source": [
    "def total_grocery(grocery):\n",
    "    total = sum(item[1] for item in grocery)\n",
    "    print(f\"Total = {total}\")\n",
    "\n",
    "grocery = ((\"Milk\", 30), (\"Rice\", 50), (\"Oil\", 120))\n",
    "total_grocery(grocery)"
   ]
  },
  {
   "cell_type": "code",
   "execution_count": 3,
   "id": "aa314519-6ece-4944-b22a-0970c6f30e91",
   "metadata": {},
   "outputs": [
    {
     "name": "stdout",
     "output_type": "stream",
     "text": [
      "Rajdhani - 10:00\n",
      "Shatabdi - 12:30\n",
      "Duronto - 17:00\n"
     ]
    }
   ],
   "source": [
    "train_schedule = ((\"Rajdhani\", \"10:00\"), (\"Shatabdi\", \"12:30\"), (\"Duronto\", \"17:00\"))\n",
    "for train in train_schedule:\n",
    "    print(f\"{train[0]} - {train[1]}\")\n"
   ]
  },
  {
   "cell_type": "code",
   "execution_count": 4,
   "id": "1383c523-1ce6-4d2b-86b5-d1aae4cfab69",
   "metadata": {},
   "outputs": [
    {
     "name": "stdout",
     "output_type": "stream",
     "text": [
      "Milk costs Rs. 25\n",
      "Eggs costs Rs. 50\n",
      "Bread costs Rs. 20\n"
     ]
    }
   ],
   "source": [
    "items = ((\"Milk\", 25), (\"Eggs\", 50), (\"Bread\", 20))\n",
    "for item in items:\n",
    "    print(f\"{item[0]} costs Rs. {item[1]}\")\n"
   ]
  },
  {
   "cell_type": "code",
   "execution_count": 5,
   "id": "fd0adf85-a901-4ad9-8a66-882ca7775d36",
   "metadata": {},
   "outputs": [
    {
     "name": "stdout",
     "output_type": "stream",
     "text": [
      "('Raj', 30000)\n",
      "('John', 40000)\n",
      "('Alice', 55000)\n"
     ]
    }
   ],
   "source": [
    "def sort_by_salary(employees):\n",
    "    sorted_employees = sorted(employees, key=lambda x: x[1])\n",
    "    for emp in sorted_employees:\n",
    "        print(emp)\n",
    "\n",
    "employees = ((\"John\", 40000), (\"Alice\", 55000), (\"Raj\", 30000))\n",
    "sort_by_salary(employees)\n",
    "\n"
   ]
  },
  {
   "cell_type": "code",
   "execution_count": 6,
   "id": "bd7ca182-7f91-47dc-8f6c-4ada9b30a787",
   "metadata": {},
   "outputs": [
    {
     "name": "stdout",
     "output_type": "stream",
     "text": [
      "Count: 3\n"
     ]
    }
   ],
   "source": [
    "def count_above_75(marks):\n",
    "    count = sum(1 for m in marks if m > 75)\n",
    "    print(f\"Count: {count}\")\n",
    "\n",
    "marks = (67, 88, 92, 74, 76, 55)\n",
    "count_above_75(marks)\n",
    "\n"
   ]
  },
  {
   "cell_type": "code",
   "execution_count": 7,
   "id": "f5d6d136-31cf-45af-ab78-d25a03644147",
   "metadata": {},
   "outputs": [
    {
     "name": "stdout",
     "output_type": "stream",
     "text": [
      "Max price: 170.1\n"
     ]
    }
   ],
   "source": [
    "def max_price(prices):\n",
    "    print(f\"Max price: {max(prices)}\")\n",
    "\n",
    "prices = (154.5, 160.2, 149.8, 170.1)\n",
    "max_price(prices)\n",
    "\n"
   ]
  },
  {
   "cell_type": "code",
   "execution_count": 8,
   "id": "afed6d50-09f6-45b0-909f-0a0c55138a5c",
   "metadata": {},
   "outputs": [
    {
     "name": "stdout",
     "output_type": "stream",
     "text": [
      "Average Temperature: 30.42\n"
     ]
    }
   ],
   "source": [
    "def average_temp(temps):\n",
    "    avg = sum(temps) / len(temps)\n",
    "    print(f\"Average Temperature: {avg:.2f}\")\n",
    "\n",
    "temperatures = (29.5, 30.0, 32.2, 31.5, 28.9)\n",
    "average_temp(temperatures)\n"
   ]
  },
  {
   "cell_type": "code",
   "execution_count": 9,
   "id": "e0ef9872-a41c-4925-88ae-8bd2032829fc",
   "metadata": {},
   "outputs": [
    {
     "name": "stdout",
     "output_type": "stream",
     "text": [
      "Doctor at 10:00 AM\n",
      "Meeting at 2:00 PM\n"
     ]
    }
   ],
   "source": [
    "appointments = ((\"Doctor\", \"10:00 AM\"), (\"Meeting\", \"2:00 PM\"))\n",
    "for a in appointments:\n",
    "    print(f\"{a[0]} at {a[1]}\")\n"
   ]
  },
  {
   "cell_type": "code",
   "execution_count": 10,
   "id": "75d7e2a5-ee35-45ab-89da-a5c5d9f5b7dc",
   "metadata": {},
   "outputs": [
    {
     "name": "stdout",
     "output_type": "stream",
     "text": [
      "Name: Anil, Phone: 9876543210\n",
      "Name: Priya, Phone: 9123456780\n"
     ]
    }
   ],
   "source": [
    "contacts = ((\"Anil\", \"9876543210\"), (\"Priya\", \"9123456780\"))\n",
    "for c in contacts:\n",
    "    print(f\"Name: {c[0]}, Phone: {c[1]}\")\n"
   ]
  },
  {
   "cell_type": "code",
   "execution_count": 11,
   "id": "37d5ddd9-e314-4d23-a9b9-11148fe61711",
   "metadata": {},
   "outputs": [
    {
     "name": "stdout",
     "output_type": "stream",
     "text": [
      "Math at 9:00 AM\n",
      "Science at 11:30 AM\n",
      "English at 2:00 PM\n"
     ]
    }
   ],
   "source": [
    "exams = ((\"Math\", \"9:00 AM\"), (\"Science\", \"11:30 AM\"), (\"English\", \"2:00 PM\"))\n",
    "for e in exams:\n",
    "    print(f\"{e[0]} at {e[1]}\")"
   ]
  },
  {
   "cell_type": "code",
   "execution_count": null,
   "id": "0459c32a-4b78-49b8-91c1-a20d309709c1",
   "metadata": {},
   "outputs": [],
   "source": []
  }
 ],
 "metadata": {
  "kernelspec": {
   "display_name": "Python 3 (ipykernel)",
   "language": "python",
   "name": "python3"
  },
  "language_info": {
   "codemirror_mode": {
    "name": "ipython",
    "version": 3
   },
   "file_extension": ".py",
   "mimetype": "text/x-python",
   "name": "python",
   "nbconvert_exporter": "python",
   "pygments_lexer": "ipython3",
   "version": "3.12.7"
  }
 },
 "nbformat": 4,
 "nbformat_minor": 5
}

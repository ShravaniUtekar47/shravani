{
 "cells": [
  {
   "cell_type": "code",
   "execution_count": 2,
   "id": "05067433-a0ff-4a3f-a462-157fa0d5a92e",
   "metadata": {},
   "outputs": [
    {
     "name": "stdout",
     "output_type": "stream",
     "text": [
      "Odd\n"
     ]
    }
   ],
   "source": [
    "def check_odd_even(num):\n",
    "    if num % 2 == 0:\n",
    "        print(\"Even\")\n",
    "    else:\n",
    "        print(\"Odd\")\n",
    "check_odd_even(7) "
   ]
  },
  {
   "cell_type": "code",
   "execution_count": 3,
   "id": "0e8cfcf7-9b4d-46c6-8618-ffcae74036b0",
   "metadata": {},
   "outputs": [
    {
     "name": "stdout",
     "output_type": "stream",
     "text": [
      "5\n"
     ]
    }
   ],
   "source": [
    "def count_digits(num):\n",
    "    return len(str(abs(num)))\n",
    "\n",
    "print(count_digits(12345))\n"
   ]
  },
  {
   "cell_type": "code",
   "execution_count": 2,
   "id": "a790b61f-cd4c-4e7a-a909-9284179a8c0c",
   "metadata": {},
   "outputs": [
    {
     "name": "stdout",
     "output_type": "stream",
     "text": [
      "5 4 3 2 1 \n",
      "4 3 2 1 \n",
      "3 2 1 \n",
      "2 1 \n",
      "1 \n"
     ]
    }
   ],
   "source": [
    "def reverse_pattern(n):\n",
    "    for i in range(n, 0, -1):\n",
    "        for j in range(i, 0, -1):\n",
    "            print(j, end=' ')\n",
    "        print()\n",
    "reverse_pattern(5)"
   ]
  },
  {
   "cell_type": "code",
   "execution_count": 3,
   "id": "cb5c7e87-3ac6-4a79-ad57-a88e796e2828",
   "metadata": {},
   "outputs": [
    {
     "name": "stdout",
     "output_type": "stream",
     "text": [
      "11 13 17 19 23 29 31 37 41 43 47 "
     ]
    }
   ],
   "source": [
    "def is_prime(n):\n",
    "    if n < 2:\n",
    "        return False\n",
    "    for i in range(2, int(n**0.5)+1):\n",
    "        if n % i == 0:\n",
    "            return False\n",
    "    return True\n",
    "\n",
    "def prime_range(start, end):\n",
    "    for i in range(start, end+1):\n",
    "        if is_prime(i):\n",
    "            print(i, end=' ')\n",
    "\n",
    "prime_range(10, 50)\n"
   ]
  },
  {
   "cell_type": "code",
   "execution_count": 4,
   "id": "a5f9919a-dd0f-4fe2-85bd-f28043e08f2f",
   "metadata": {},
   "outputs": [
    {
     "name": "stdout",
     "output_type": "stream",
     "text": [
      "120\n"
     ]
    }
   ],
   "source": [
    "def factorial(n):\n",
    "    result = 1\n",
    "    for i in range(2, n+1):\n",
    "        result *= i\n",
    "    return result\n",
    "\n",
    "print(factorial(5))"
   ]
  },
  {
   "cell_type": "code",
   "execution_count": 5,
   "id": "7cfba239-8ae9-4548-9c4c-dd153c1885ad",
   "metadata": {},
   "outputs": [
    {
     "name": "stdout",
     "output_type": "stream",
     "text": [
      "True\n"
     ]
    }
   ],
   "source": [
    "def is_armstrong(num):\n",
    "    digits = str(num)\n",
    "    power = len(digits)\n",
    "    total = sum(int(d)**power for d in digits)\n",
    "    return total == num\n",
    "\n",
    "print(is_armstrong(153))"
   ]
  },
  {
   "cell_type": "code",
   "execution_count": 6,
   "id": "01bdc680-30d2-4b1c-9239-ca303b111b63",
   "metadata": {},
   "outputs": [
    {
     "name": "stdout",
     "output_type": "stream",
     "text": [
      "25\n"
     ]
    }
   ],
   "source": [
    "def max_of_three(a, b, c):\n",
    "    return max(a, b, c)\n",
    "\n",
    "print(max_of_three(10, 25, 15))"
   ]
  },
  {
   "cell_type": "code",
   "execution_count": 7,
   "id": "238a6202-ce48-4670-b533-da3872645d69",
   "metadata": {},
   "outputs": [
    {
     "name": "stdout",
     "output_type": "stream",
     "text": [
      "10\n"
     ]
    }
   ],
   "source": [
    "def sum_of_digits(num):\n",
    "    return sum(int(d) for d in str(abs(num)))\n",
    "\n",
    "print(sum_of_digits(1234)) "
   ]
  },
  {
   "cell_type": "code",
   "execution_count": 8,
   "id": "4e87f352-f5c1-4504-b76e-b356c3f2243a",
   "metadata": {},
   "outputs": [
    {
     "name": "stdout",
     "output_type": "stream",
     "text": [
      "True\n"
     ]
    }
   ],
   "source": [
    "def is_palindrome(num):\n",
    "    return str(num) == str(num)[::-1]\n",
    "\n",
    "print(is_palindrome(121))  "
   ]
  },
  {
   "cell_type": "code",
   "execution_count": 9,
   "id": "9fe7636e-2886-4d23-90b8-babba3d8c378",
   "metadata": {},
   "outputs": [
    {
     "name": "stdout",
     "output_type": "stream",
     "text": [
      "1 = 1\n",
      "1 + 2 = 3\n",
      "1 + 2 + 3 = 6\n",
      "1 + 2 + 3 + 4 = 10\n",
      "1 + 2 + 3 + 4 + 5 = 15\n"
     ]
    }
   ],
   "source": [
    "def summation_pattern(n):\n",
    "    total = 0\n",
    "    for i in range(1, n + 1):\n",
    "        total += i\n",
    "        print(\" + \".join(map(str, range(1, i + 1))), '=', total)\n",
    "\n",
    "summation_pattern(5)"
   ]
  },
  {
   "cell_type": "code",
   "execution_count": null,
   "id": "60eaf76a-3e0b-4afe-aa70-ff8a53ddf68d",
   "metadata": {},
   "outputs": [],
   "source": []
  }
 ],
 "metadata": {
  "kernelspec": {
   "display_name": "Python 3 (ipykernel)",
   "language": "python",
   "name": "python3"
  },
  "language_info": {
   "codemirror_mode": {
    "name": "ipython",
    "version": 3
   },
   "file_extension": ".py",
   "mimetype": "text/x-python",
   "name": "python",
   "nbconvert_exporter": "python",
   "pygments_lexer": "ipython3",
   "version": "3.12.7"
  }
 },
 "nbformat": 4,
 "nbformat_minor": 5
}

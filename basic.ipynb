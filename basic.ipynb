{
 "cells": [
  {
   "cell_type": "code",
   "execution_count": 2,
   "id": "e23779bf-efff-48c2-8696-999fcdd28e28",
   "metadata": {},
   "outputs": [
    {
     "data": {
      "text/plain": [
       "int"
      ]
     },
     "execution_count": 2,
     "metadata": {},
     "output_type": "execute_result"
    }
   ],
   "source": [
    "type(1)"
   ]
  },
  {
   "cell_type": "code",
   "execution_count": 3,
   "id": "d4443432-c014-44d0-92c8-bb452b171d8e",
   "metadata": {},
   "outputs": [
    {
     "data": {
      "text/plain": [
       "str"
      ]
     },
     "execution_count": 3,
     "metadata": {},
     "output_type": "execute_result"
    }
   ],
   "source": [
    "type(\"Hello\")"
   ]
  },
  {
   "cell_type": "code",
   "execution_count": 4,
   "id": "d17b7337-32fc-4f93-bbf5-d6c428694bf6",
   "metadata": {},
   "outputs": [
    {
     "data": {
      "text/plain": [
       "bool"
      ]
     },
     "execution_count": 4,
     "metadata": {},
     "output_type": "execute_result"
    }
   ],
   "source": [
    "type(True)"
   ]
  },
  {
   "cell_type": "code",
   "execution_count": 6,
   "id": "0148956e-8f60-4cd9-97c6-f88c7cc23958",
   "metadata": {},
   "outputs": [
    {
     "data": {
      "text/plain": [
       "float"
      ]
     },
     "execution_count": 6,
     "metadata": {},
     "output_type": "execute_result"
    }
   ],
   "source": [
    "type(1.0)"
   ]
  },
  {
   "cell_type": "code",
   "execution_count": 7,
   "id": "91a34685-8a62-4229-bb1a-4c3a40d36583",
   "metadata": {},
   "outputs": [
    {
     "data": {
      "text/plain": [
       "'hello'"
      ]
     },
     "execution_count": 7,
     "metadata": {},
     "output_type": "execute_result"
    }
   ],
   "source": [
    "\"hello\""
   ]
  },
  {
   "cell_type": "code",
   "execution_count": 8,
   "id": "f86afbf1-5736-41d9-a58e-2b93f4c8a3c2",
   "metadata": {},
   "outputs": [
    {
     "data": {
      "text/plain": [
       "'hello'"
      ]
     },
     "execution_count": 8,
     "metadata": {},
     "output_type": "execute_result"
    }
   ],
   "source": [
    "'hello'"
   ]
  },
  {
   "cell_type": "code",
   "execution_count": 1,
   "id": "03632ec2-b744-4a97-82bf-e7612023f449",
   "metadata": {},
   "outputs": [
    {
     "data": {
      "text/plain": [
       "str"
      ]
     },
     "execution_count": 1,
     "metadata": {},
     "output_type": "execute_result"
    }
   ],
   "source": [
    "type('Hello')"
   ]
  },
  {
   "cell_type": "code",
   "execution_count": 2,
   "id": "ef89b0a3-0307-4400-8b8f-61c9419eb28f",
   "metadata": {},
   "outputs": [],
   "source": [
    "# var name = value"
   ]
  },
  {
   "cell_type": "code",
   "execution_count": 3,
   "id": "57b986cd-170a-428e-a84b-b7492526c302",
   "metadata": {},
   "outputs": [],
   "source": [
    "a=10"
   ]
  },
  {
   "cell_type": "code",
   "execution_count": 4,
   "id": "070f7c77-795b-408a-b08a-419f01606f3b",
   "metadata": {},
   "outputs": [
    {
     "data": {
      "text/plain": [
       "int"
      ]
     },
     "execution_count": 4,
     "metadata": {},
     "output_type": "execute_result"
    }
   ],
   "source": [
    "type(a)"
   ]
  },
  {
   "cell_type": "code",
   "execution_count": 5,
   "id": "bf75b33e-584b-4b42-adfd-8d6cc24618c4",
   "metadata": {},
   "outputs": [],
   "source": [
    "a='mdl'"
   ]
  },
  {
   "cell_type": "code",
   "execution_count": 6,
   "id": "1526b960-e872-405b-b6f6-767dc9665fa8",
   "metadata": {},
   "outputs": [
    {
     "data": {
      "text/plain": [
       "str"
      ]
     },
     "execution_count": 6,
     "metadata": {},
     "output_type": "execute_result"
    }
   ],
   "source": [
    "type(a)"
   ]
  },
  {
   "cell_type": "code",
   "execution_count": 7,
   "id": "1ba9650f-c6c2-4c8e-8d2f-a439eade5524",
   "metadata": {},
   "outputs": [],
   "source": [
    "a=10\n",
    "b=20"
   ]
  },
  {
   "cell_type": "code",
   "execution_count": 8,
   "id": "12b34fa5-c92c-4288-a84d-707f0ff2f42f",
   "metadata": {},
   "outputs": [
    {
     "name": "stdout",
     "output_type": "stream",
     "text": [
      "30\n",
      "200\n",
      "0\n",
      "200.5\n"
     ]
    }
   ],
   "source": [
    "print(a+b)\n",
    "print(a*b)\n",
    "print(b%a)\n",
    "print((a*b)+(a/b))"
   ]
  },
  {
   "cell_type": "code",
   "execution_count": 9,
   "id": "7403f6fa-6e69-49e7-82c6-4102220f7aeb",
   "metadata": {},
   "outputs": [
    {
     "name": "stdout",
     "output_type": "stream",
     "text": [
      "MDL\n"
     ]
    }
   ],
   "source": [
    "s=\"MDL\"\n",
    "print(s)"
   ]
  },
  {
   "cell_type": "code",
   "execution_count": 10,
   "id": "8a162d02-cc64-435f-b300-155d354d0ba3",
   "metadata": {},
   "outputs": [
    {
     "name": "stdout",
     "output_type": "stream",
     "text": [
      "Ram is  25 Lonere\n"
     ]
    }
   ],
   "source": [
    "s=\"Ram is \"\n",
    "age=25\n",
    "City=\"Lonere\"\n",
    "print(s,age,City)"
   ]
  },
  {
   "cell_type": "code",
   "execution_count": 11,
   "id": "6ba48119-5e69-4f18-bbd5-6788e961691a",
   "metadata": {},
   "outputs": [
    {
     "name": "stdout",
     "output_type": "stream",
     "text": [
      "MDL\n"
     ]
    }
   ],
   "source": [
    "print('MDL')"
   ]
  },
  {
   "cell_type": "code",
   "execution_count": 18,
   "id": "061acb17-0661-4075-a8b9-598bdbae5450",
   "metadata": {},
   "outputs": [],
   "source": [
    "first_name = 'Mahek'\n",
    "last_name = 'Tembe'"
   ]
  },
  {
   "cell_type": "code",
   "execution_count": 19,
   "id": "1a51d823-f64b-4a51-9f01-919c171519ca",
   "metadata": {},
   "outputs": [
    {
     "name": "stdout",
     "output_type": "stream",
     "text": [
      "My first name is Mahek and last name isTembe\n"
     ]
    }
   ],
   "source": [
    "print(\"My first name is {} and last name is{}\".format(first_name,last_name))"
   ]
  },
  {
   "cell_type": "code",
   "execution_count": 17,
   "id": "538fb88b-2b30-4e89-834f-d1cd164f879e",
   "metadata": {},
   "outputs": [
    {
     "name": "stdout",
     "output_type": "stream",
     "text": [
      "My first name is Tembe and last name isMahek\n"
     ]
    }
   ],
   "source": [
    "print(\"My first name is {} and last name is{}\".format(last_name,first_name))"
   ]
  },
  {
   "cell_type": "code",
   "execution_count": 21,
   "id": "626aa0cf-c76d-4d7f-85c2-18012a0ade88",
   "metadata": {},
   "outputs": [
    {
     "name": "stdout",
     "output_type": "stream",
     "text": [
      "My first name is Mahek and last name isTembe\n"
     ]
    }
   ],
   "source": [
    "print(\"My first name is {first} and last name is{last}\".format(first= first_name,last = last_name))"
   ]
  },
  {
   "cell_type": "code",
   "execution_count": 22,
   "id": "12a8fd2a-b0fd-470b-9899-0abe9db055c3",
   "metadata": {},
   "outputs": [
    {
     "name": "stdout",
     "output_type": "stream",
     "text": [
      "My first name is Tembe and Last name is Mahek\n"
     ]
    }
   ],
   "source": [
    "print(\"My first name is {} and Last name is {}\".format(last_name,first_name))\n",
    "My first name is Laddha and Last name is Manjushree\n",
    "28]:\n",
    "28]:\n"
   ]
  },
  {
   "cell_type": "code",
   "execution_count": 23,
   "id": "f878842b-fb12-4cc0-9291-417101474660",
   "metadata": {},
   "outputs": [
    {
     "name": "stdout",
     "output_type": "stream",
     "text": [
      "My first name is Mahek and Last name is Tembe\n"
     ]
    }
   ],
   "source": [
    "print(\"My first name is {first} and Last name is {last}\".format(last = last_name, first = first_name))"
   ]
  },
  {
   "cell_type": "code",
   "execution_count": 24,
   "id": "7ca736b3-c414-4b63-95d7-60abfab01bf2",
   "metadata": {},
   "outputs": [
    {
     "name": "stdout",
     "output_type": "stream",
     "text": [
      "Python@programming\n"
     ]
    }
   ],
   "source": [
    "print(\"Python\", end='@')\n",
    "print(\"programming\")"
   ]
  },
  {
   "cell_type": "code",
   "execution_count": 25,
   "id": "1eb54514-ea1d-4c70-9231-dbf3a7b3bbd2",
   "metadata": {},
   "outputs": [
    {
     "name": "stdout",
     "output_type": "stream",
     "text": [
      "pratik@dbatu.ac.in\n"
     ]
    }
   ],
   "source": [
    "print('pratik', 'dbatu.ac.in', sep='@')"
   ]
  },
  {
   "cell_type": "code",
   "execution_count": 26,
   "id": "d0a4cc05-31c5-41ac-abc4-3adbcb48c170",
   "metadata": {},
   "outputs": [
    {
     "name": "stdout",
     "output_type": "stream",
     "text": [
      "GFG\n"
     ]
    }
   ],
   "source": [
    "print('G', 'F', 'G', sep='')"
   ]
  },
  {
   "cell_type": "code",
   "execution_count": 27,
   "id": "aed20910-5eb0-4839-a0bc-5c0bd9d46e23",
   "metadata": {},
   "outputs": [
    {
     "name": "stdout",
     "output_type": "stream",
     "text": [
      "09-02-2025\n"
     ]
    }
   ],
   "source": [
    "print('09', '02', '2025', sep='-')"
   ]
  },
  {
   "cell_type": "code",
   "execution_count": 28,
   "id": "38266b05-4e1f-468e-acef-8886a5a9c041",
   "metadata": {},
   "outputs": [
    {
     "name": "stdout",
     "output_type": "stream",
     "text": [
      "Hello, My name is Tushar and I'm 23 years old.\n"
     ]
    }
   ],
   "source": [
    "name = 'Tushar'\n",
    "age = 23\n",
    "print(f\"Hello, My name is {name} and I'm {age} years old.\")"
   ]
  },
  {
   "cell_type": "code",
   "execution_count": 29,
   "id": "055454ce-f549-4310-b3a8-e11de527c1d1",
   "metadata": {},
   "outputs": [
    {
     "name": "stdin",
     "output_type": "stream",
     "text": [
      "Enter a value:  12\n"
     ]
    },
    {
     "name": "stdout",
     "output_type": "stream",
     "text": [
      "The sum is 17\n"
     ]
    }
   ],
   "source": [
    "# Taking input from the user\n",
    "num = int(input(\"Enter a value: \"))\n",
    "add = num + 5\n",
    "# Output\n",
    "print(\"The sum is %d\" %add)"
   ]
  },
  {
   "cell_type": "code",
   "execution_count": 32,
   "id": "0b6be463-ede9-42dc-9a12-5312beada5bc",
   "metadata": {},
   "outputs": [
    {
     "name": "stdin",
     "output_type": "stream",
     "text": [
      "Enter two values:  12 2\n"
     ]
    },
    {
     "name": "stdout",
     "output_type": "stream",
     "text": [
      "Number of boys:  12\n",
      "Number of girls:  2\n"
     ]
    }
   ],
   "source": [
    "# taking two inputs at a time\n",
    "x, y = input(\"Enter two values: \").split()\n",
    "print(\"Number of boys: \", x)\n",
    "print(\"Number of girls: \", y)\n",
    "\n"
   ]
  },
  {
   "cell_type": "code",
   "execution_count": 34,
   "id": "fca1a0f9-d6ef-46b3-a20d-2751d50fd509",
   "metadata": {},
   "outputs": [
    {
     "name": "stdin",
     "output_type": "stream",
     "text": [
      "Enter three values:  12 22 33\n"
     ]
    },
    {
     "name": "stdout",
     "output_type": "stream",
     "text": [
      "Total number of students:  12\n",
      "Number of boys is :  22\n",
      "Number of girls is :  33\n"
     ]
    }
   ],
   "source": [
    "#taking three inputs at a time\n",
    "x, y, z = input(\"Enter three values: \").split()\n",
    "print(\"Total number of students: \", x)\n",
    "print(\"Number of boys is : \", y)\n",
    "print(\"Number of girls is : \", z)"
   ]
  },
  {
   "cell_type": "code",
   "execution_count": 38,
   "id": "2c75878d-51b4-40fa-8dbf-3ac3b4c8731f",
   "metadata": {},
   "outputs": [
    {
     "name": "stdin",
     "output_type": "stream",
     "text": [
      "Enter your age:  17\n"
     ]
    },
    {
     "name": "stdout",
     "output_type": "stream",
     "text": [
      "You are a minor.\n"
     ]
    }
   ],
   "source": [
    "# Prompting the user for input\n",
    "age_input = input(\"Enter your age: \")\n",
    "# Converting the input to an integer\n",
    "age = int(age_input)\n",
    "# Checking conditions based on user input\n",
    "if age < 0:\n",
    "    print(\"Please enter a valid age.\")\n",
    "elif age < 18:\n",
    "    print(\"You are a minor.\")\n",
    "elif age >= 18 and age < 65:\n",
    "    print(\"You are an adult.\")\n",
    "else:\n",
    "    print(\"You are a senior citizen.\")"
   ]
  },
  {
   "cell_type": "code",
   "execution_count": 39,
   "id": "135fc7f9-8d88-4a2c-a2e6-0a895f043c9a",
   "metadata": {},
   "outputs": [
    {
     "name": "stdin",
     "output_type": "stream",
     "text": [
      "Enter your name:  mahek\n"
     ]
    },
    {
     "name": "stdout",
     "output_type": "stream",
     "text": [
      "Hello, mahek ! Welcome!\n"
     ]
    }
   ],
   "source": [
    "name = input(\"Enter your name: \")\n",
    "print(\"Hello,\", name, \"! Welcome!\")"
   ]
  },
  {
   "cell_type": "code",
   "execution_count": 41,
   "id": "2d45ed22-cc09-460c-ad71-431157195be7",
   "metadata": {},
   "outputs": [
    {
     "name": "stdin",
     "output_type": "stream",
     "text": [
      "What color is rose?:  red\n"
     ]
    },
    {
     "name": "stdout",
     "output_type": "stream",
     "text": [
      "red\n"
     ]
    }
   ],
   "source": [
    "# Taking input as string\n",
    "color = input(\"What color is rose?: \")\n",
    "print(color)"
   ]
  },
  {
   "cell_type": "code",
   "execution_count": 42,
   "id": "fef84aad-6998-45ff-ad65-d5e3711f42a6",
   "metadata": {},
   "outputs": [
    {
     "name": "stdin",
     "output_type": "stream",
     "text": [
      "How many roses?:  5\n"
     ]
    },
    {
     "name": "stdout",
     "output_type": "stream",
     "text": [
      "5\n"
     ]
    }
   ],
   "source": [
    "# Taking input as int\n",
    "# Typecasting to int\n",
    "n = int(input(\"How many roses?: \"))\n",
    "print(n)"
   ]
  },
  {
   "cell_type": "code",
   "execution_count": 43,
   "id": "2262d164-07ad-4608-80a4-e364da529e92",
   "metadata": {},
   "outputs": [
    {
     "name": "stdin",
     "output_type": "stream",
     "text": [
      "Price of each rose?:  23\n"
     ]
    },
    {
     "name": "stdout",
     "output_type": "stream",
     "text": [
      "23.0\n"
     ]
    }
   ],
   "source": [
    "# Taking input as float\n",
    "# Typecasting to float\n",
    "price = float(input(\"Price of each rose?: \"))\n",
    "print(price)"
   ]
  },
  {
   "cell_type": "code",
   "execution_count": 45,
   "id": "5a8d2abf-23e4-44ce-86e0-77557f067d28",
   "metadata": {},
   "outputs": [
    {
     "name": "stdout",
     "output_type": "stream",
     "text": [
      "<class 'str'>\n",
      "<class 'int'>\n",
      "<class 'float'>\n",
      "<class 'tuple'>\n",
      "<class 'list'>\n",
      "<class 'dict'>\n"
     ]
    }
   ],
   "source": [
    "a = \"Hello World\"\n",
    "b = 10\n",
    "c = 11.22\n",
    "d = (\"Computers\", \"for\", \"students\")\n",
    "e = [\"Computers\", \"for\", \"students\"]\n",
    "f = {\"Computers\": 1, \"for\":2, \"students\":3}\n",
    "print(type(a))\n",
    "print(type(b))\n",
    "print(type(c))\n",
    "print(type(d))\n",
    "print(type(e))\n",
    "print(type(f))"
   ]
  },
  {
   "cell_type": "code",
   "execution_count": null,
   "id": "a8a359e2-9ac9-44b9-98e1-0b0fc2bfc230",
   "metadata": {},
   "outputs": [],
   "source": []
  }
 ],
 "metadata": {
  "kernelspec": {
   "display_name": "Python 3 (ipykernel)",
   "language": "python",
   "name": "python3"
  },
  "language_info": {
   "codemirror_mode": {
    "name": "ipython",
    "version": 3
   },
   "file_extension": ".py",
   "mimetype": "text/x-python",
   "name": "python",
   "nbconvert_exporter": "python",
   "pygments_lexer": "ipython3",
   "version": "3.12.7"
  }
 },
 "nbformat": 4,
 "nbformat_minor": 5
}
